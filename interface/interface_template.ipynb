{
 "cells": [
  {
   "cell_type": "markdown",
   "metadata": {},
   "source": [
    "# CDSL ROS-Based Control Interface\n",
    "\n",
    "Author: Sang-ik An (flyingwith@gmail.com)\n",
    "\n",
    "This application has been tested only on the macOS M1.\n",
    "\n",
    "## Linear System Simulator\n",
    "\n",
    "### Introduction"
   ]
  },
  {
   "cell_type": "code",
   "execution_count": null,
   "metadata": {},
   "outputs": [],
   "source": [
    "from IPython.display import Markdown, display\n",
    "display(Markdown('../targets/linear_system_simulator/README.md'))"
   ]
  },
  {
   "cell_type": "markdown",
   "metadata": {},
   "source": [
    "### Example 1\n",
    "\n",
    "This example shows a basic usage of `ControlInterface`.\n",
    "\n",
    "- The target is initialized when the `ControlInterface` class is instantiated.\n",
    "  - It executes the shell script `simulation1_server`.\n",
    "- The target is finalized when the `ControlInterface` class is deleted.\n",
    "  - It executes the shell script `simulation1_close`.\n",
    "- The target runs when the member function `run()` of `ControlInterface` is called.\n",
    "  - It executes the shell script `simulation1_client`.\n",
    "- A data directory is automatically created with the time stamp in the directory `${APP_DATA_DIR}`.\n",
    "- The `parameter.xml` file is copied to the data directory and the result of `run()` is saved to the `data.csv` file.\n",
    "- After `run()` returns, the data is accessible as member variables of the target."
   ]
  },
  {
   "cell_type": "code",
   "execution_count": null,
   "metadata": {},
   "outputs": [],
   "source": [
    "%matplotlib inline\n",
    "import pandas as pd, numpy as np, matplotlib.pyplot as plt\n",
    "from interface import ControlInterface as CI\n",
    "\n",
    "# check if ROS is running\n",
    "if CI.is_ros_running():\n",
    "    print('ROS is running')\n",
    "else:\n",
    "    print('ROS is not running')\n",
    "\n",
    "# list all targets\n",
    "CI.list_all_targets()\n",
    "\n",
    "# print the parameter.xml file for the target\n",
    "CI.print_xml('Linear System Simulator')\n",
    "\n",
    "# initialize the target (simulation1_server runs)\n",
    "ci = CI('Linear System Simulator')\n",
    "\n",
    "# run the target (simulation1_client runs)\n",
    "print('running simulation1...')\n",
    "ci.run()\n",
    "print('done')\n",
    "\n",
    "# plot the result\n",
    "fig, axs = plt.subplots(2,2)\n",
    "axs[0,0].plot(ci.target.t, ci.target.x)\n",
    "axs[0,0].set_title('state')\n",
    "axs[0,1].plot(ci.target.t, ci.target.u)\n",
    "axs[0,1].set_title('control input')\n",
    "axs[1,0].plot(ci.target.t, ci.target.r, ci.target.t, ci.target.y)\n",
    "axs[1,0].set_title('reference and output')\n",
    "axs[1,1].plot(ci.target.t, ci.target.e)\n",
    "axs[1,1].set_title('output tracking error')\n",
    "fig.tight_layout()\n",
    "\n",
    "# finalize the target (simulation1_close runs)\n",
    "del ci"
   ]
  },
  {
   "cell_type": "markdown",
   "metadata": {},
   "source": [
    "### Example 2\n",
    "\n",
    "Various keywords arguments can be used when `ControlInteface` is instantiated or `run()` is called.\n",
    "\n",
    "- `run=True`: When used in the instantiation of `ControlInterface`, the function `run()` is also called.\n",
    "- `verbose=True`: When used in the instantiation of `ControlInterface`, the log messages are displayed.\n",
    "- `data_dir_name=<name>`: When used in the instantiation of `ControlInterface` along with `run=True` or in the call of `run()`, the data directory name is set to `<name>`."
   ]
  },
  {
   "cell_type": "code",
   "execution_count": null,
   "metadata": {},
   "outputs": [],
   "source": [
    "%matplotlib inline\n",
    "import pandas as pd, numpy as np, matplotlib.pyplot as plt, os\n",
    "from interface import ControlInterface as CI\n",
    "\n",
    "ci = CI(0, run=True, data_dir_name='test', verbose=True)\n",
    "\n",
    "print('\\n'+'='*80)\n",
    "print(f'data directory = {ci.target.data_dir}')\n",
    "os.system(f'ls {ci.target.data_dir}')\n",
    "print('='*80+'\\n')\n",
    "\n",
    "del ci"
   ]
  },
  {
   "cell_type": "markdown",
   "metadata": {},
   "source": [
    "### Example 3\n",
    "\n",
    "The parameters of the simulation can be set directly by modifying the parameter.xml or by the keywords arguments.\n",
    "\n",
    "For array parameters, we can use various types:\n",
    "\n",
    "- `np.ndarray`: `A = np.array([[0, 1, 0], [0, 0, 1], [0, 0, 0]])`\n",
    "- `tuple` : `A = (0,1,0,0,0,1,0,0,0)`\n",
    "- `list` : `A = [0,1,0,0,0,1,0,0,0]`\n",
    "- `dict` : `A = {0:0,1:1,2:0,3:0,4:0,5:1,6:0,7:0,8:0}`\n",
    "- `str` : `A = '0,1,0,0,0,1,0,0,0'`\n",
    "\n",
    "If an array parameter has size 1, we can also use `int` or `float` type:\n",
    "\n",
    "- `np.ndarray` : `Kp = np.array[[100]]`\n",
    "- `int` : `Kp = 100`\n",
    "- `float` : `Kp = 100.0`"
   ]
  },
  {
   "cell_type": "code",
   "execution_count": null,
   "metadata": {},
   "outputs": [],
   "source": [
    "%matplotlib inline\n",
    "import pandas as pd, numpy as np, matplotlib.pyplot as plt\n",
    "from interface import ControlInterface as CI\n",
    "\n",
    "n = 3\n",
    "m = 1\n",
    "p = 1\n",
    "A = np.array([[0, 1, 0], [0, 0, 1], [0, 0, 0]])\n",
    "B = np.array([[0], [0], [1]])\n",
    "C = np.array([[1, 0, 0]])\n",
    "s0 = 0.0\n",
    "r0 = np.array([1.0])\n",
    "Kp = np.array([[100]])\n",
    "Kd = np.array([[10]])\n",
    "Ki = np.array([[1]])\n",
    "ts = 0.001\n",
    "t0 = 0.0\n",
    "t1 = 3.0\n",
    "x0 = np.array([0, 0, 0])\n",
    "\n",
    "ci = CI(0, run=True, n=n, m=m, p=p, A=A, B=B, C=C, s0=s0, r0=r0, Kp=Kp, Kd=Kd, Ki=Ki, ts=ts, t0=t0, t1=t1, x0=x0)\n",
    "\n",
    "fig, axs = plt.subplots(2,2)\n",
    "axs[0,0].plot(ci.target.t, ci.target.x)\n",
    "axs[0,0].set_title('state')\n",
    "axs[0,1].plot(ci.target.t, ci.target.u)\n",
    "axs[0,1].set_title('control input')\n",
    "axs[1,0].plot(ci.target.t, ci.target.r, ci.target.t, ci.target.y)\n",
    "axs[1,0].set_title('reference and output')\n",
    "axs[1,1].plot(ci.target.t, ci.target.e)\n",
    "axs[1,1].set_title('output tracking error')\n",
    "fig.tight_layout()\n",
    "\n",
    "del ci"
   ]
  },
  {
   "cell_type": "markdown",
   "metadata": {},
   "source": [
    "### Example 4\n",
    "\n",
    "We can run multiple simulations."
   ]
  },
  {
   "cell_type": "code",
   "execution_count": null,
   "metadata": {},
   "outputs": [],
   "source": [
    "%matplotlib inline\n",
    "import pandas as pd, numpy as np, matplotlib.pyplot as plt\n",
    "from interface import ControlInterface as CI\n",
    "\n",
    "fig, axs = plt.subplots(1)\n",
    "\n",
    "ci = CI(0)\n",
    "\n",
    "n = 10\n",
    "for i in range(n):\n",
    "    print(f'[{i}] running...')\n",
    "    ci.run(Kp=50+100/n*i)\n",
    "    if i == 0:\n",
    "        axs.plot(ci.target.t, ci.target.r)\n",
    "    axs.plot(ci.target.t, ci.target.y)\n",
    "\n",
    "del ci\n",
    "\n",
    "fig.tight_layout()"
   ]
  },
  {
   "cell_type": "markdown",
   "metadata": {},
   "source": [
    "## Two-Link Manipulator\n",
    "\n",
    "### Introduction"
   ]
  },
  {
   "cell_type": "code",
   "execution_count": null,
   "metadata": {},
   "outputs": [],
   "source": [
    "from IPython.display import Markdown, display\n",
    "display(Markdown('../targets/two_link_manipulator/README.md'))"
   ]
  },
  {
   "cell_type": "markdown",
   "metadata": {},
   "source": [
    "### Example 1\n",
    "\n",
    "Run the simulation without the modeling uncertainty."
   ]
  },
  {
   "cell_type": "code",
   "execution_count": null,
   "metadata": {},
   "outputs": [],
   "source": [
    "%matplotlib inline\n",
    "import pandas as pd, numpy as np, matplotlib.pyplot as plt\n",
    "from interface import ControlInterface as CI\n",
    "\n",
    "CI.print_xml(\"Two-Link Manipulator\")\n",
    "\n",
    "ci = CI('Two-Link Manipulator')\n",
    "\n",
    "print('running simulation1...')\n",
    "ci.run()\n",
    "print('done')\n",
    "\n",
    "fig, axs = plt.subplots(2,2)\n",
    "axs[0,0].plot(ci.target.t, ci.target.r, ci.target.t, ci.target.q)\n",
    "axs[0,0].set_title('joint position')\n",
    "axs[0,1].plot(ci.target.t, ci.target.tau)\n",
    "axs[0,1].set_title('joint torques')\n",
    "axs[1,0].plot(ci.target.t, ci.target.dq)\n",
    "axs[1,0].set_title('joint velocity')\n",
    "axs[1,1].plot(ci.target.t, ci.target.e)\n",
    "axs[1,1].set_title('tracking error')\n",
    "fig.tight_layout()\n",
    "\n",
    "del ci"
   ]
  },
  {
   "cell_type": "markdown",
   "metadata": {},
   "source": [
    "### Example 2\n",
    "\n",
    "Let's see the behavior of the controller according to the modeling uncertainty."
   ]
  },
  {
   "cell_type": "code",
   "execution_count": null,
   "metadata": {},
   "outputs": [],
   "source": [
    "%matplotlib inline\n",
    "import pandas as pd, numpy as np, matplotlib.pyplot as plt\n",
    "from interface import ControlInterface as CI\n",
    "\n",
    "fig, axs = plt.subplots(1)\n",
    "\n",
    "ci = CI(1)\n",
    "\n",
    "n = 10\n",
    "for i in range(n):\n",
    "    print(f'[{i}] running...')\n",
    "    ci.run(m1_e=9+2/n*i, m2_e=5.5-1/n*i)\n",
    "    if i == 0:\n",
    "        axs.plot(ci.target.t, ci.target.r)\n",
    "    axs.plot(ci.target.t, ci.target.q)\n",
    "\n",
    "del ci\n",
    "\n",
    "fig.tight_layout()"
   ]
  }
 ],
 "metadata": {
  "language_info": {
   "name": "python"
  },
  "orig_nbformat": 4
 },
 "nbformat": 4,
 "nbformat_minor": 2
}
